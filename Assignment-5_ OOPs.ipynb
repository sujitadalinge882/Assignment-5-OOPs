{
 "cells": [
  {
   "cell_type": "code",
   "execution_count": 6,
   "id": "1f4bdf65",
   "metadata": {},
   "outputs": [
    {
     "name": "stdout",
     "output_type": "stream",
     "text": [
      "100\n"
     ]
    }
   ],
   "source": [
    "# Write a Python class to implement pow(x, n)\n",
    "#Explanation:\n",
    "\n",
    "#Use should be able to find the nth power of the x.(i.e x*x*x*x...n times)\n",
    "\n",
    "#You must implement it using Class\n",
    "\n",
    "\n",
    "\n",
    "#Sample Input:\n",
    "\n",
    "#x: 10\n",
    "\n",
    "#n: 2\n",
    "\n",
    "\n",
    "\n",
    "#Sample Output:\n",
    "\n",
    "#100\n",
    "class py_solution:\n",
    "    def pow(self, x, n):\n",
    "        if x==0 or x==1 or n==1:\n",
    "            return x \n",
    "\n",
    "        if x==-1:\n",
    "            if n%2 ==0:\n",
    "                return 1\n",
    "            else:\n",
    "                return -1\n",
    "        if n==0:\n",
    "            return 1\n",
    "        if n<0:\n",
    "            return 1/self.pow(x,-n)\n",
    "        val = self.pow(x,n//2)\n",
    "        if n%2 ==0:\n",
    "            return val*val\n",
    "        return val*val*x\n",
    "\n",
    "print(py_solution().pow(10, 2))"
   ]
  },
  {
   "cell_type": "code",
   "execution_count": null,
   "id": "f590e40b",
   "metadata": {},
   "outputs": [],
   "source": []
  },
  {
   "cell_type": "code",
   "execution_count": null,
   "id": "674f623c",
   "metadata": {},
   "outputs": [],
   "source": []
  }
 ],
 "metadata": {
  "kernelspec": {
   "display_name": "Python 3 (ipykernel)",
   "language": "python",
   "name": "python3"
  },
  "language_info": {
   "codemirror_mode": {
    "name": "ipython",
    "version": 3
   },
   "file_extension": ".py",
   "mimetype": "text/x-python",
   "name": "python",
   "nbconvert_exporter": "python",
   "pygments_lexer": "ipython3",
   "version": "3.9.12"
  }
 },
 "nbformat": 4,
 "nbformat_minor": 5
}
